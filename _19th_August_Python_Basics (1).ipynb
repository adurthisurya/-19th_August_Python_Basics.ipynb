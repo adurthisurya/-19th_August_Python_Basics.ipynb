{
 "cells": [
  {
   "cell_type": "code",
   "execution_count": null,
   "id": "4584c782-c506-4bb0-a637-aba1ef79ea3a",
   "metadata": {},
   "outputs": [],
   "source": [
    "'''Declare two variables, `x` and `y`, and assign them integer values. Swap the\n",
    "values of these variables without using any temporary variable.'''"
   ]
  },
  {
   "cell_type": "code",
   "execution_count": 17,
   "id": "33be499b-de7d-4ef1-8adb-2f56ce04f518",
   "metadata": {},
   "outputs": [],
   "source": [
    "x = 10\n",
    "y = 20"
   ]
  },
  {
   "cell_type": "code",
   "execution_count": 18,
   "id": "77bb815a-0db1-47ed-b78a-2a84d6abd661",
   "metadata": {},
   "outputs": [],
   "source": [
    "x = x+y"
   ]
  },
  {
   "cell_type": "code",
   "execution_count": 19,
   "id": "efb2f860-3065-4cea-979d-1cdc553451af",
   "metadata": {},
   "outputs": [
    {
     "data": {
      "text/plain": [
       "30"
      ]
     },
     "execution_count": 19,
     "metadata": {},
     "output_type": "execute_result"
    }
   ],
   "source": [
    "x"
   ]
  },
  {
   "cell_type": "code",
   "execution_count": 20,
   "id": "3455b9b6-fa61-42a7-80e6-55f620d990f7",
   "metadata": {},
   "outputs": [],
   "source": [
    "y = x-y"
   ]
  },
  {
   "cell_type": "code",
   "execution_count": 21,
   "id": "87e61ae4-eded-441b-97df-5f29dc647890",
   "metadata": {},
   "outputs": [
    {
     "data": {
      "text/plain": [
       "10"
      ]
     },
     "execution_count": 21,
     "metadata": {},
     "output_type": "execute_result"
    }
   ],
   "source": [
    "y"
   ]
  },
  {
   "cell_type": "code",
   "execution_count": 22,
   "id": "6deb831a-8d72-4126-84a7-6fdfbca1709c",
   "metadata": {},
   "outputs": [],
   "source": [
    "x = x-y"
   ]
  },
  {
   "cell_type": "code",
   "execution_count": 23,
   "id": "2ed40215-381d-44b2-aa5f-ee25ece10b5c",
   "metadata": {},
   "outputs": [
    {
     "data": {
      "text/plain": [
       "20"
      ]
     },
     "execution_count": 23,
     "metadata": {},
     "output_type": "execute_result"
    }
   ],
   "source": [
    "x"
   ]
  },
  {
   "cell_type": "code",
   "execution_count": 24,
   "id": "a54cd260-aa90-4b04-807a-fe227b43aa8f",
   "metadata": {},
   "outputs": [
    {
     "data": {
      "text/plain": [
       "(20, 10)"
      ]
     },
     "execution_count": 24,
     "metadata": {},
     "output_type": "execute_result"
    }
   ],
   "source": [
    "x,y"
   ]
  },
  {
   "cell_type": "code",
   "execution_count": null,
   "id": "db1b6fa9-73fc-4d46-9965-d912db21bfa4",
   "metadata": {},
   "outputs": [],
   "source": [
    "'''Create a program that calculates the area of a rectangle. Take the length and\n",
    "width as inputs from the user and store them in variables. Calculate and\n",
    "display the area.'''"
   ]
  },
  {
   "cell_type": "code",
   "execution_count": 45,
   "id": "a94e3cfb-1ea7-4bb6-b63b-f6c7415edb3b",
   "metadata": {},
   "outputs": [
    {
     "name": "stdin",
     "output_type": "stream",
     "text": [
      "Enter Length 5.0\n",
      "Enter Width 6.0\n"
     ]
    }
   ],
   "source": [
    "Length = float(input('Enter Length'))\n",
    "Width = float(input('Enter Width'))\n",
    "\n",
    "Area = Length * Width\n"
   ]
  },
  {
   "cell_type": "code",
   "execution_count": 46,
   "id": "cbfdb860-3b44-4001-9031-5867c875622f",
   "metadata": {},
   "outputs": [
    {
     "data": {
      "text/plain": [
       "30.0"
      ]
     },
     "execution_count": 46,
     "metadata": {},
     "output_type": "execute_result"
    }
   ],
   "source": [
    "Area"
   ]
  },
  {
   "cell_type": "code",
   "execution_count": null,
   "id": "a67844e8-c08a-4d9b-8756-a29dc359abc5",
   "metadata": {},
   "outputs": [],
   "source": [
    "'''Write a Python program that converts temperatures from Celsius to\n",
    "Fahrenheit. Take the temperature in Celsius as input, store it in a variable,\n",
    "convert it to Fahrenheit, and display the result.'''"
   ]
  },
  {
   "cell_type": "code",
   "execution_count": 47,
   "id": "dee2ea49-a91a-4026-8122-ab6f34e49239",
   "metadata": {},
   "outputs": [
    {
     "name": "stdin",
     "output_type": "stream",
     "text": [
      " 50\n"
     ]
    }
   ],
   "source": [
    "Celsius = float(input())\n",
    "\n",
    "c=Celsius\n",
    "\n",
    "Farnheit = (c*9/5)+32\n",
    "\n",
    "\n"
   ]
  },
  {
   "cell_type": "code",
   "execution_count": 48,
   "id": "41eaf99c-8160-43f7-b50c-164967210c1e",
   "metadata": {},
   "outputs": [
    {
     "data": {
      "text/plain": [
       "122.0"
      ]
     },
     "execution_count": 48,
     "metadata": {},
     "output_type": "execute_result"
    }
   ],
   "source": [
    "Farnheit"
   ]
  },
  {
   "cell_type": "code",
   "execution_count": null,
   "id": "e0d3c069-f406-494f-8fef-c935497b362c",
   "metadata": {},
   "outputs": [],
   "source": [
    "'''Write a Python program that takes a string as input and prints the length of\n",
    "the string.'''"
   ]
  },
  {
   "cell_type": "code",
   "execution_count": 49,
   "id": "1325b4d0-dfbd-453a-a75a-1bfbdc25385d",
   "metadata": {},
   "outputs": [
    {
     "name": "stdin",
     "output_type": "stream",
     "text": [
      "Enter a string My name is surya\n"
     ]
    }
   ],
   "source": [
    "string = input('Enter a string')"
   ]
  },
  {
   "cell_type": "code",
   "execution_count": 51,
   "id": "0a227e63-3143-4eeb-811e-694d7c1e0ca1",
   "metadata": {},
   "outputs": [
    {
     "data": {
      "text/plain": [
       "16"
      ]
     },
     "execution_count": 51,
     "metadata": {},
     "output_type": "execute_result"
    }
   ],
   "source": [
    "len(string)"
   ]
  },
  {
   "cell_type": "code",
   "execution_count": null,
   "id": "5711b0ca-2026-4160-8cd8-d530c10b505f",
   "metadata": {},
   "outputs": [],
   "source": [
    "'''Given a string, reverse the order of characters using string slicing and print\n",
    "the reversed string.'''"
   ]
  },
  {
   "cell_type": "code",
   "execution_count": 52,
   "id": "2285a0e5-27ab-42c3-888a-b24f444686e0",
   "metadata": {},
   "outputs": [],
   "source": [
    "string = 'surya'"
   ]
  },
  {
   "cell_type": "code",
   "execution_count": 53,
   "id": "7e42e0d3-37ff-4f63-b3d7-ab35c825297e",
   "metadata": {},
   "outputs": [
    {
     "data": {
      "text/plain": [
       "'ayrus'"
      ]
     },
     "execution_count": 53,
     "metadata": {},
     "output_type": "execute_result"
    }
   ],
   "source": [
    "string[::-1]"
   ]
  },
  {
   "cell_type": "code",
   "execution_count": null,
   "id": "073881db-d2c0-4518-94ad-ac6d4afbfe99",
   "metadata": {},
   "outputs": [],
   "source": [
    "'''Write a program that takes a string as input and checks if it is a palindrome\n",
    "(reads the same forwards and backwards).'''"
   ]
  },
  {
   "cell_type": "code",
   "execution_count": 3,
   "id": "0e1213ac-6ed2-475f-b7d3-0f9c5fd8f1b0",
   "metadata": {},
   "outputs": [
    {
     "name": "stdin",
     "output_type": "stream",
     "text": [
      "Enter the String madam\n"
     ]
    },
    {
     "name": "stdout",
     "output_type": "stream",
     "text": [
      "palindrome\n"
     ]
    }
   ],
   "source": [
    "string = input('Enter the String')\n",
    "String1 = string[::-1]\n",
    "\n",
    "if string == String1:\n",
    "    print('palindrome')\n",
    "else:\n",
    "    print('Not a palindrome')"
   ]
  },
  {
   "cell_type": "code",
   "execution_count": null,
   "id": "1505a9ab-0ebd-4df7-ae8d-02b533367e37",
   "metadata": {},
   "outputs": [],
   "source": [
    "'''Create a program that takes a sentence from the user and counts the number\n",
    "of vowels (a, e, i, o, u) in the string.'''"
   ]
  },
  {
   "cell_type": "code",
   "execution_count": 3,
   "id": "a53d7b4f-6f83-4692-b6ca-4d2e082f435b",
   "metadata": {},
   "outputs": [
    {
     "name": "stdin",
     "output_type": "stream",
     "text": [
      "Enter the sentence: my name is surya\n"
     ]
    },
    {
     "name": "stdout",
     "output_type": "stream",
     "text": [
      "count is 5\n"
     ]
    }
   ],
   "source": [
    "sen = input('Enter the sentence:')\n",
    "\n",
    "vowels = 'AEIOUaeiou'\n",
    "\n",
    "count = 0\n",
    "\n",
    "for i in sen:\n",
    "    if i in vowels:\n",
    "        count = count+1\n",
    "print('count is',count)"
   ]
  }
 ],
 "metadata": {
  "kernelspec": {
   "display_name": "Python 3 (ipykernel)",
   "language": "python",
   "name": "python3"
  },
  "language_info": {
   "codemirror_mode": {
    "name": "ipython",
    "version": 3
   },
   "file_extension": ".py",
   "mimetype": "text/x-python",
   "name": "python",
   "nbconvert_exporter": "python",
   "pygments_lexer": "ipython3",
   "version": "3.10.8"
  }
 },
 "nbformat": 4,
 "nbformat_minor": 5
}
